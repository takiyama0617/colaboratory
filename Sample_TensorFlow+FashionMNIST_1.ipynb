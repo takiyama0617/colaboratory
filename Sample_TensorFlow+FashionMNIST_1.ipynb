{
  "nbformat": 4,
  "nbformat_minor": 0,
  "metadata": {
    "colab": {
      "name": "Sample_TensorFlow+FashionMNIST_1.ipynb",
      "provenance": [],
      "collapsed_sections": [],
      "authorship_tag": "ABX9TyM/pvIY3X6bgIpo36nO8m+j",
      "include_colab_link": true
    },
    "kernelspec": {
      "name": "python3",
      "display_name": "Python 3"
    },
    "accelerator": "GPU"
  },
  "cells": [
    {
      "cell_type": "markdown",
      "metadata": {
        "id": "view-in-github",
        "colab_type": "text"
      },
      "source": [
        "<a href=\"https://colab.research.google.com/github/takiyama0617/colaboratory/blob/master/Sample_TensorFlow%2BFashionMNIST_1.ipynb\" target=\"_parent\"><img src=\"https://colab.research.google.com/assets/colab-badge.svg\" alt=\"Open In Colab\"/></a>"
      ]
    },
    {
      "cell_type": "code",
      "metadata": {
        "id": "SPCvCeJY3jl5",
        "colab_type": "code",
        "colab": {
          "base_uri": "https://localhost:8080/",
          "height": 34
        },
        "outputId": "a689a2fa-c70c-41a4-f3a9-32634db8d641"
      },
      "source": [
        "import matplotlib.pyplot as plt\n",
        "import numpy as np\n",
        "import tensorflow as tf\n",
        "\n",
        "print(tf.__version__)\n"
      ],
      "execution_count": 5,
      "outputs": [
        {
          "output_type": "stream",
          "text": [
            "1.15.0\n"
          ],
          "name": "stdout"
        }
      ]
    },
    {
      "cell_type": "code",
      "metadata": {
        "id": "QAC_dElY6aSD",
        "colab_type": "code",
        "colab": {
          "base_uri": "https://localhost:8080/",
          "height": 34
        },
        "outputId": "85d4f627-7886-48d5-b00c-130b04b2458a"
      },
      "source": [
        "import keras"
      ],
      "execution_count": 6,
      "outputs": [
        {
          "output_type": "stream",
          "text": [
            "Using TensorFlow backend.\n"
          ],
          "name": "stderr"
        }
      ]
    },
    {
      "cell_type": "code",
      "metadata": {
        "id": "HQrJDpiq6f29",
        "colab_type": "code",
        "colab": {}
      },
      "source": [
        "fashion_mnist = keras.datasets.fashion_mnist\n",
        "\n",
        "(train_data, train_teacher_labels), (test_data, test_teacher_labels) = fashion_mnist.load_data()"
      ],
      "execution_count": 0,
      "outputs": []
    },
    {
      "cell_type": "code",
      "metadata": {
        "id": "ZBtyATBP7j5s",
        "colab_type": "code",
        "colab": {
          "base_uri": "https://localhost:8080/",
          "height": 51
        },
        "outputId": "c7a8c470-18ca-4805-c6af-75704aea55af"
      },
      "source": [
        "fashion_names = ['T-shirt/top', 'Trouser', 'Pullover', 'Dress', 'Coat', 'Sandal', 'Shirt', 'Sneaker', 'Bag', 'Ankle boot']\n",
        "\n",
        "print(train_data.shape)\n",
        "len(train_teacher_labels)"
      ],
      "execution_count": 12,
      "outputs": [
        {
          "output_type": "stream",
          "text": [
            "(60000, 28, 28)\n"
          ],
          "name": "stdout"
        },
        {
          "output_type": "execute_result",
          "data": {
            "text/plain": [
              "60000"
            ]
          },
          "metadata": {
            "tags": []
          },
          "execution_count": 12
        }
      ]
    },
    {
      "cell_type": "code",
      "metadata": {
        "id": "lQgV5qu_8CLS",
        "colab_type": "code",
        "colab": {
          "base_uri": "https://localhost:8080/",
          "height": 51
        },
        "outputId": "647fbc72-d9e1-466f-bd52-41be0efd452a"
      },
      "source": [
        "print(test_data.shape)\n",
        "len(test_teacher_labels)"
      ],
      "execution_count": 16,
      "outputs": [
        {
          "output_type": "stream",
          "text": [
            "(10000, 28, 28)\n"
          ],
          "name": "stdout"
        },
        {
          "output_type": "execute_result",
          "data": {
            "text/plain": [
              "10000"
            ]
          },
          "metadata": {
            "tags": []
          },
          "execution_count": 16
        }
      ]
    },
    {
      "cell_type": "code",
      "metadata": {
        "id": "UoRnm-R69Isx",
        "colab_type": "code",
        "colab": {
          "base_uri": "https://localhost:8080/",
          "height": 265
        },
        "outputId": "a58197a5-b1a2-49a9-b8c7-0d63eaff33c4"
      },
      "source": [
        "# 画像データの描画\n",
        "plt.figure()\n",
        "plt.imshow(train_data[3], cmap='inferno')\n",
        "plt.colorbar()\n",
        "plt.grid()"
      ],
      "execution_count": 17,
      "outputs": [
        {
          "output_type": "display_data",
          "data": {
            "image/png": "[encoded data removed]",
            "text/plain": [
              "<Figure size 432x288 with 2 Axes>"
            ]
          },
          "metadata": {
            "tags": []
          }
        }
      ]
    },
    {
      "cell_type": "code",
      "metadata": {
        "id": "dHQQi6bk9h_o",
        "colab_type": "code",
        "colab": {
          "base_uri": "https://localhost:8080/",
          "height": 697
        },
        "outputId": "8636e0a6-f585-44b1-9514-5115485ef7e8"
      },
      "source": [
        "plt.figure(figsize=(12, 12))\n",
        "for i in range(16) :\n",
        "  plt.subplot(4, 4, i + 1)\n",
        "  plt.xticks([])\n",
        "  plt.yticks([])\n",
        "  plt.grid(False)\n",
        "  plt.imshow(train_data[i], cmap='inferno')\n",
        "  plt.xlabel(fashion_names[train_teacher_labels[i]])"
      ],
      "execution_count": 18,
      "outputs": [
        {
          "output_type": "display_data",
          "data": {
            "image/png": "[encoded data removed]",
            "text/plain": [
              "<Figure size 864x864 with 16 Axes>"
            ]
          },
          "metadata": {
            "tags": []
          }
        }
      ]
    },
    {
      "cell_type": "code",
      "metadata": {
        "id": "bdnHwfoBBXsF",
        "colab_type": "code",
        "colab": {}
      },
      "source": [
        "BATCH_SIZE = 128\n",
        "NUM_CLASSES = 10\n",
        "EPOCHS = 20\n",
        "\n",
        "IMG_ROWS, IMG_COLS = 28, 28"
      ],
      "execution_count": 0,
      "outputs": []
    },
    {
      "cell_type": "code",
      "metadata": {
        "id": "A0jqyYAbBo-v",
        "colab_type": "code",
        "colab": {}
      },
      "source": [
        "# 学習モデルに合わせて、データ調整\n",
        "train_data = train_data.astype('float32')\n",
        "test_data = test_data.astype('float32')\n",
        "\n",
        "train_data /= 255\n",
        "test_data /= 255"
      ],
      "execution_count": 0,
      "outputs": []
    },
    {
      "cell_type": "code",
      "metadata": {
        "id": "_iAd5RV1CE9N",
        "colab_type": "code",
        "colab": {
          "base_uri": "https://localhost:8080/",
          "height": 85
        },
        "outputId": "bac8765a-5dd2-42e4-b318-f06ff4551ec8"
      },
      "source": [
        "print('学習データ　train_data shape : ', train_data.shape)\n",
        "print(train_data.shape[0], 'サンプルを学習します')\n",
        "print('検証データ　test_data shape : ', test_data.shape)\n",
        "print(test_data.shape[0], 'サンプルを検証します')"
      ],
      "execution_count": 21,
      "outputs": [
        {
          "output_type": "stream",
          "text": [
            "学習データ　train_data shape :  (60000, 28, 28)\n",
            "60000 サンプルを学習します\n",
            "検証データ　test_data shape :  (10000, 28, 28)\n",
            "10000 サンプルを検証します\n"
          ],
          "name": "stdout"
        }
      ]
    },
    {
      "cell_type": "code",
      "metadata": {
        "id": "0Scgh_VeEgtD",
        "colab_type": "code",
        "colab": {}
      },
      "source": [
        "from keras.models import Sequential\n",
        "from keras.layers import Dense, Flatten\n",
        "from keras.optimizers import Adam\n"
      ],
      "execution_count": 0,
      "outputs": []
    },
    {
      "cell_type": "markdown",
      "metadata": {
        "id": "rTlMP8wUHtRA",
        "colab_type": "text"
      },
      "source": [
        "### 入力層\n",
        "画像１枚は、28×28ピクセル。この２次元配列を784(28×28)１次元配列に変換。<br>\n",
        "入力層のニューロンを784個定義"
      ]
    },
    {
      "cell_type": "code",
      "metadata": {
        "id": "qq5PJdi_Gksz",
        "colab_type": "code",
        "colab": {
          "base_uri": "https://localhost:8080/",
          "height": 71
        },
        "outputId": "ef0573a2-66cd-4e63-8a24-f49d2b7b0c41"
      },
      "source": [
        "model = Sequential()\n",
        "model.add(Flatten(input_shape=(IMG_ROWS, IMG_COLS)))"
      ],
      "execution_count": 25,
      "outputs": [
        {
          "output_type": "stream",
          "text": [
            "WARNING:tensorflow:From /usr/local/lib/python3.6/dist-packages/keras/backend/tensorflow_backend.py:541: The name tf.placeholder is deprecated. Please use tf.compat.v1.placeholder instead.\n",
            "\n"
          ],
          "name": "stdout"
        }
      ]
    },
    {
      "cell_type": "markdown",
      "metadata": {
        "id": "GN7qiJtRI3pd",
        "colab_type": "text"
      },
      "source": [
        "### 中間層\n",
        "今回は、ニューロン数を128個定義。<br>\n",
        "※ここは、何個でもOK（64個でも、2000個でも...）<br>\n",
        "必要に応じて、中間層の数を増やしてもOK<br>\n",
        "階層の数、中間層のニューロン数などは、学習時間、学習効率、学習結果に影響する。"
      ]
    },
    {
      "cell_type": "code",
      "metadata": {
        "id": "0g2h2nFZJvyQ",
        "colab_type": "code",
        "colab": {}
      },
      "source": [
        "model.add(Dense(128, activation=tf.nn.relu))\n",
        "model.add(Dense(200, activation=tf.nn.relu))"
      ],
      "execution_count": 0,
      "outputs": []
    },
    {
      "cell_type": "markdown",
      "metadata": {
        "id": "YQQw1Tz3J6Sy",
        "colab_type": "text"
      },
      "source": [
        "### 出力層\n",
        "ここのニューロン数は、実際に分類したいクラスの数に合わせるのが一般的。<br>\n",
        "今回は、10種類なので、10とする。"
      ]
    },
    {
      "cell_type": "code",
      "metadata": {
        "id": "3RICjV8oKON-",
        "colab_type": "code",
        "colab": {}
      },
      "source": [
        "model.add(Dense(10, activation=tf.nn.softmax))"
      ],
      "execution_count": 0,
      "outputs": []
    },
    {
      "cell_type": "code",
      "metadata": {
        "id": "09iuNHfvKXiC",
        "colab_type": "code",
        "colab": {
          "base_uri": "https://localhost:8080/",
          "height": 357
        },
        "outputId": "11cd7995-9d05-4128-98aa-12444b190cfb"
      },
      "source": [
        "model.summary()"
      ],
      "execution_count": 31,
      "outputs": [
        {
          "output_type": "stream",
          "text": [
            "Model: \"sequential_2\"\n",
            "_________________________________________________________________\n",
            "Layer (type)                 Output Shape              Param #   \n",
            "=================================================================\n",
            "flatten_1 (Flatten)          (None, 784)               0         \n",
            "_________________________________________________________________\n",
            "dense_1 (Dense)              (None, 128)               100480    \n",
            "_________________________________________________________________\n",
            "dense_2 (Dense)              (None, 10)                1290      \n",
            "_________________________________________________________________\n",
            "dense_3 (Dense)              (None, 128)               1408      \n",
            "_________________________________________________________________\n",
            "dense_4 (Dense)              (None, 200)               25800     \n",
            "_________________________________________________________________\n",
            "dense_5 (Dense)              (None, 10)                2010      \n",
            "=================================================================\n",
            "Total params: 130,988\n",
            "Trainable params: 130,988\n",
            "Non-trainable params: 0\n",
            "_________________________________________________________________\n"
          ],
          "name": "stdout"
        }
      ]
    },
    {
      "cell_type": "code",
      "metadata": {
        "id": "8b64l2VgLTFh",
        "colab_type": "code",
        "colab": {
          "base_uri": "https://localhost:8080/",
          "height": 85
        },
        "outputId": "6dee9d95-dbdc-4ca8-a550-93bc5c5d341e"
      },
      "source": [
        "model.compile(\n",
        "    optimizer=Adam(),\n",
        "    loss='sparse_categorical_crossentropy',\n",
        "    metrics=['accuracy']\n",
        ")"
      ],
      "execution_count": 32,
      "outputs": [
        {
          "output_type": "stream",
          "text": [
            "WARNING:tensorflow:From /usr/local/lib/python3.6/dist-packages/keras/optimizers.py:793: The name tf.train.Optimizer is deprecated. Please use tf.compat.v1.train.Optimizer instead.\n",
            "\n",
            "WARNING:tensorflow:From /usr/local/lib/python3.6/dist-packages/keras/backend/tensorflow_backend.py:3622: The name tf.log is deprecated. Please use tf.math.log instead.\n",
            "\n"
          ],
          "name": "stdout"
        }
      ]
    },
    {
      "cell_type": "code",
      "metadata": {
        "id": "wTdSPHxvLuAD",
        "colab_type": "code",
        "colab": {}
      },
      "source": [
        "# 学習の誤差と正解率グラフを描画する関数\n",
        "def plot_loss_accuracy_graph(fit_record) :\n",
        "  plt.plot(fit_record.history['loss'], \"-D\", color=\"blue\", label=\"train_loss\", linewidth=2)\n",
        "  plt.plot(fit_record.history['val_loss'], \"-D\", color=\"black\", label=\"val_loss\", linewidth=2)\n",
        "  plt.title(\"LOSS\")\n",
        "  plt.xlabel(\"Epochs\")\n",
        "  plt.ylabel(\"Loss\")\n",
        "  plt.legend(loc='upper right')\n",
        "  plt.show()\n",
        "\n",
        "  plt.plot(fit_record.history['acc'], \"-o\", color=\"green\", label=\"train_accuracy\", linewidth=2)\n",
        "  plt.plot(fit_record.history['val_acc'], \"-o\", color=\"black\", label=\"val_laccuracy\", linewidth=2)\n",
        "  plt.title(\"ACCURACY\")\n",
        "  plt.xlabel(\"Epochs\")\n",
        "  plt.ylabel(\"Accuracy\")\n",
        "  plt.legend(loc='lower right')\n",
        "  plt.show()\n"
      ],
      "execution_count": 0,
      "outputs": []
    },
    {
      "cell_type": "code",
      "metadata": {
        "id": "gqIffhp7NPT0",
        "colab_type": "code",
        "colab": {
          "base_uri": "https://localhost:8080/",
          "height": 972
        },
        "outputId": "d9667e02-9c1a-4d3f-fce0-865de1e951c9"
      },
      "source": [
        "# 学習\n",
        "print('反復学習回数 : ', EPOCHS)\n",
        "fit_record = model.fit(\n",
        "    train_data,\n",
        "    train_teacher_labels,\n",
        "    batch_size=BATCH_SIZE,\n",
        "    epochs=EPOCHS,\n",
        "    verbose=1,\n",
        "    validation_data=(test_data, test_teacher_labels)\n",
        ")"
      ],
      "execution_count": 34,
      "outputs": [
        {
          "output_type": "stream",
          "text": [
            "反復学習回数 :  20\n",
            "WARNING:tensorflow:From /tensorflow-1.15.0/python3.6/tensorflow_core/python/ops/math_grad.py:1424: where (from tensorflow.python.ops.array_ops) is deprecated and will be removed in a future version.\n",
            "Instructions for updating:\n",
            "Use tf.where in 2.0, which has the same broadcast rule as np.where\n",
            "WARNING:tensorflow:From /usr/local/lib/python3.6/dist-packages/keras/backend/tensorflow_backend.py:3005: The name tf.Session is deprecated. Please use tf.compat.v1.Session instead.\n",
            "\n",
            "Train on 60000 samples, validate on 10000 samples\n",
            "Epoch 1/20\n",
            "WARNING:tensorflow:From /usr/local/lib/python3.6/dist-packages/keras/backend/tensorflow_backend.py:190: The name tf.get_default_session is deprecated. Please use tf.compat.v1.get_default_session instead.\n",
            "\n",
            "WARNING:tensorflow:From /usr/local/lib/python3.6/dist-packages/keras/backend/tensorflow_backend.py:207: The name tf.global_variables is deprecated. Please use tf.compat.v1.global_variables instead.\n",
            "\n",
            "WARNING:tensorflow:From /usr/local/lib/python3.6/dist-packages/keras/backend/tensorflow_backend.py:216: The name tf.is_variable_initialized is deprecated. Please use tf.compat.v1.is_variable_initialized instead.\n",
            "\n",
            "WARNING:tensorflow:From /usr/local/lib/python3.6/dist-packages/keras/backend/tensorflow_backend.py:223: The name tf.variables_initializer is deprecated. Please use tf.compat.v1.variables_initializer instead.\n",
            "\n",
            "60000/60000 [==============================] - 11s 180us/step - loss: 0.8817 - acc: 0.6565 - val_loss: 0.5568 - val_acc: 0.7846\n",
            "Epoch 2/20\n",
            "60000/60000 [==============================] - 2s 32us/step - loss: 0.4796 - acc: 0.8263 - val_loss: 0.4783 - val_acc: 0.8357\n",
            "Epoch 3/20\n",
            "60000/60000 [==============================] - 2s 31us/step - loss: 0.4005 - acc: 0.8582 - val_loss: 0.4041 - val_acc: 0.8574\n",
            "Epoch 4/20\n",
            "60000/60000 [==============================] - 2s 31us/step - loss: 0.3586 - acc: 0.8734 - val_loss: 0.3909 - val_acc: 0.8598\n",
            "Epoch 5/20\n",
            "60000/60000 [==============================] - 2s 32us/step - loss: 0.3349 - acc: 0.8802 - val_loss: 0.4080 - val_acc: 0.8526\n",
            "Epoch 6/20\n",
            "60000/60000 [==============================] - 2s 32us/step - loss: 0.3183 - acc: 0.8852 - val_loss: 0.3608 - val_acc: 0.8734\n",
            "Epoch 7/20\n",
            "60000/60000 [==============================] - 2s 31us/step - loss: 0.3041 - acc: 0.8904 - val_loss: 0.3817 - val_acc: 0.8637\n",
            "Epoch 8/20\n",
            "60000/60000 [==============================] - 2s 32us/step - loss: 0.2928 - acc: 0.8946 - val_loss: 0.3885 - val_acc: 0.8612\n",
            "Epoch 9/20\n",
            "60000/60000 [==============================] - 2s 31us/step - loss: 0.2807 - acc: 0.8966 - val_loss: 0.3647 - val_acc: 0.8720\n",
            "Epoch 10/20\n",
            "60000/60000 [==============================] - 2s 31us/step - loss: 0.2688 - acc: 0.9024 - val_loss: 0.3599 - val_acc: 0.8720\n",
            "Epoch 11/20\n",
            "60000/60000 [==============================] - 2s 30us/step - loss: 0.2636 - acc: 0.9037 - val_loss: 0.3514 - val_acc: 0.8778\n",
            "Epoch 12/20\n",
            "60000/60000 [==============================] - 2s 31us/step - loss: 0.2547 - acc: 0.9068 - val_loss: 0.3577 - val_acc: 0.8756\n",
            "Epoch 13/20\n",
            "60000/60000 [==============================] - 2s 31us/step - loss: 0.2489 - acc: 0.9087 - val_loss: 0.3625 - val_acc: 0.8738\n",
            "Epoch 14/20\n",
            "60000/60000 [==============================] - 2s 32us/step - loss: 0.2422 - acc: 0.9113 - val_loss: 0.3538 - val_acc: 0.8789\n",
            "Epoch 15/20\n",
            "60000/60000 [==============================] - 2s 32us/step - loss: 0.2356 - acc: 0.9133 - val_loss: 0.3508 - val_acc: 0.8833\n",
            "Epoch 16/20\n",
            "60000/60000 [==============================] - 2s 31us/step - loss: 0.2295 - acc: 0.9165 - val_loss: 0.3679 - val_acc: 0.8788\n",
            "Epoch 17/20\n",
            "60000/60000 [==============================] - 2s 31us/step - loss: 0.2267 - acc: 0.9173 - val_loss: 0.3873 - val_acc: 0.8737\n",
            "Epoch 18/20\n",
            "60000/60000 [==============================] - 2s 32us/step - loss: 0.2221 - acc: 0.9187 - val_loss: 0.3642 - val_acc: 0.8788\n",
            "Epoch 19/20\n",
            "60000/60000 [==============================] - 2s 31us/step - loss: 0.2182 - acc: 0.9201 - val_loss: 0.3546 - val_acc: 0.8800\n",
            "Epoch 20/20\n",
            "60000/60000 [==============================] - 2s 32us/step - loss: 0.2100 - acc: 0.9245 - val_loss: 0.3528 - val_acc: 0.8834\n"
          ],
          "name": "stdout"
        }
      ]
    },
    {
      "cell_type": "code",
      "metadata": {
        "id": "tYmLjSpxPVK2",
        "colab_type": "code",
        "colab": {
          "base_uri": "https://localhost:8080/",
          "height": 573
        },
        "outputId": "417ae553-3938-4a7e-bc88-105113df9441"
      },
      "source": [
        "plot_loss_accuracy_graph(fit_record)"
      ],
      "execution_count": 35,
      "outputs": [
        {
          "output_type": "display_data",
          "data": {
            "image/png": "[encoded data removed]",
            "text/plain": [
              "<Figure size 432x288 with 1 Axes>"
            ]
          },
          "metadata": {
            "tags": []
          }
        },
        {
          "output_type": "display_data",
          "data": {
            "image/png": "[encoded data removed]",
            "text/plain": [
              "<Figure size 432x288 with 1 Axes>"
            ]
          },
          "metadata": {
            "tags": []
          }
        }
      ]
    },
    {
      "cell_type": "code",
      "metadata": {
        "id": "Y7F-IebTQN4y",
        "colab_type": "code",
        "colab": {
          "base_uri": "https://localhost:8080/",
          "height": 68
        },
        "outputId": "dfb43842-7302-45f7-de44-31b51ddfd1f8"
      },
      "source": [
        "result_score = model.evaluate(test_data, test_teacher_labels)\n",
        "\n",
        "print('検証誤差 : ', result_score[0])\n",
        "print('検証正解率 : ', result_score[1])"
      ],
      "execution_count": 36,
      "outputs": [
        {
          "output_type": "stream",
          "text": [
            "10000/10000 [==============================] - 0s 46us/step\n",
            "検証誤差 :  0.3527995813250542\n",
            "検証正解率 :  0.8834\n"
          ],
          "name": "stdout"
        }
      ]
    },
    {
      "cell_type": "code",
      "metadata": {
        "id": "BjrZuesAQmmo",
        "colab_type": "code",
        "colab": {
          "base_uri": "https://localhost:8080/",
          "height": 51
        },
        "outputId": "1675ebe8-e7bb-4370-d62a-58a69ba2dd37"
      },
      "source": [
        "data_location = 4\n",
        "img = test_data[data_location]\n",
        "print(img.shape)\n",
        "\n",
        "img = (np.expand_dims(img, 0))\n",
        "print(img.shape)"
      ],
      "execution_count": 39,
      "outputs": [
        {
          "output_type": "stream",
          "text": [
            "(28, 28)\n",
            "(1, 28, 28)\n"
          ],
          "name": "stdout"
        }
      ]
    },
    {
      "cell_type": "code",
      "metadata": {
        "id": "tECiRErmRAEU",
        "colab_type": "code",
        "colab": {
          "base_uri": "https://localhost:8080/",
          "height": 51
        },
        "outputId": "8e366c05-6346-4ef3-f104-3b9a014bc688"
      },
      "source": [
        "# 予測\n",
        "predictions_result_array = model.predict(img)\n",
        "print(predictions_result_array)"
      ],
      "execution_count": 40,
      "outputs": [
        {
          "output_type": "stream",
          "text": [
            "[[1.8047799e-01 7.3326657e-05 3.0061191e-02 2.9220367e-03 3.4264538e-03\n",
            "  3.0453120e-07 7.8276330e-01 3.6482669e-07 2.7486865e-04 1.7580697e-07]]\n"
          ],
          "name": "stdout"
        }
      ]
    },
    {
      "cell_type": "code",
      "metadata": {
        "id": "wM-VmkLkRUha",
        "colab_type": "code",
        "colab": {
          "base_uri": "https://localhost:8080/",
          "height": 34
        },
        "outputId": "17615d0f-c3ca-4959-e9da-e16c74bd5398"
      },
      "source": [
        "number = np.argmax(predictions_result_array[0])\n",
        "print('予測結果 : ', fashion_names[number])"
      ],
      "execution_count": 41,
      "outputs": [
        {
          "output_type": "stream",
          "text": [
            "予測結果 :  Shirt\n"
          ],
          "name": "stdout"
        }
      ]
    },
    {
      "cell_type": "code",
      "metadata": {
        "id": "uOoSqekSRjv3",
        "colab_type": "code",
        "colab": {}
      },
      "source": [
        "# 学習モデルの保存\n",
        "model.save('keras-fashion-mnist-model.h5')"
      ],
      "execution_count": 0,
      "outputs": []
    }
  ]
}