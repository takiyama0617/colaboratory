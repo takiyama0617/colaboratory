{
  "nbformat": 4,
  "nbformat_minor": 0,
  "metadata": {
    "colab": {
      "name": "Sample_TensorFlow+Keras+MNIST_1.ipynb",
      "provenance": [],
      "collapsed_sections": [],
      "toc_visible": true,
      "authorship_tag": "ABX9TyMgS4eIsp0dmTmrpGm+6Ypj",
      "include_colab_link": true
    },
    "kernelspec": {
      "name": "python3",
      "display_name": "Python 3"
    }
  },
  "cells": [
    {
      "cell_type": "markdown",
      "metadata": {
        "id": "view-in-github",
        "colab_type": "text"
      },
      "source": [
        "<a href=\"https://colab.research.google.com/github/takiyama0617/colaboratory/blob/master/Sample_TensorFlow%2BKeras%2BMNIST_1.ipynb\" target=\"_parent\"><img src=\"https://colab.research.google.com/assets/colab-badge.svg\" alt=\"Open In Colab\"/></a>"
      ]
    },
    {
      "cell_type": "markdown",
      "metadata": {
        "id": "Ts9JcgEB6qul",
        "colab_type": "text"
      },
      "source": [
        "# Kerasとは\n",
        "複数のバックエンドの深層学習フレームワークで共通なPythonプログラミング手法を提供するニューラルネットワークライブラリのラッパー\n"
      ]
    },
    {
      "cell_type": "markdown",
      "metadata": {
        "id": "dRBlPaoj7sji",
        "colab_type": "text"
      },
      "source": [
        "## Kerasのバックエンドエンジン\n",
        "Kerasのバックエンドエンジン（深層学習フレームワーク）として、以下の３つに接続出来る。\n",
        "* TensorFlow\n",
        " * Google製。人気あるみたい。\n",
        "* Theano\n",
        " * カナダのどっかの大学が主導している。\n",
        "* CNTK\n",
        " * Microsoft製。"
      ]
    },
    {
      "cell_type": "markdown",
      "metadata": {
        "id": "lsCNX-uN-DwP",
        "colab_type": "text"
      },
      "source": [
        "## Kerasを用いた処理フロー\n",
        "1. データを用意する\n",
        " 1. データロード\n",
        " 1. 前処理\n",
        "1. モデルを構築する\n",
        " 1. モデルを定義する\n",
        " 1. モデルにレイヤーを追加\n",
        "1. 学習する\n",
        "1. 検証・評価する"
      ]
    },
    {
      "cell_type": "code",
      "metadata": {
        "id": "cVJAXTWa6c2v",
        "colab_type": "code",
        "outputId": "e244adf7-c19b-44d7-9508-f60cfb58d2cb",
        "colab": {
          "base_uri": "https://localhost:8080/",
          "height": 374
        }
      },
      "source": [
        "!pip install tensorflow"
      ],
      "execution_count": 14,
      "outputs": [
        {
          "output_type": "stream",
          "text": [
            "Requirement already satisfied: tensorflow in /usr/local/lib/python3.6/dist-packages (1.15.0)\n",
            "Requirement already satisfied: six>=1.10.0 in /usr/local/lib/python3.6/dist-packages (from tensorflow) (1.12.0)\n",
            "Requirement already satisfied: grpcio>=1.8.6 in /usr/local/lib/python3.6/dist-packages (from tensorflow) (1.27.1)\n",
            "Requirement already satisfied: numpy<2.0,>=1.16.0 in /usr/local/lib/python3.6/dist-packages (from tensorflow) (1.17.5)\n",
            "Requirement already satisfied: tensorboard<1.16.0,>=1.15.0 in /usr/local/lib/python3.6/dist-packages (from tensorflow) (1.15.0)\n",
            "Requirement already satisfied: tensorflow-estimator==1.15.1 in /usr/local/lib/python3.6/dist-packages (from tensorflow) (1.15.1)\n",
            "Requirement already satisfied: wrapt>=1.11.1 in /usr/local/lib/python3.6/dist-packages (from tensorflow) (1.11.2)\n",
            "Requirement already satisfied: termcolor>=1.1.0 in /usr/local/lib/python3.6/dist-packages (from tensorflow) (1.1.0)\n",
            "Requirement already satisfied: gast==0.2.2 in /usr/local/lib/python3.6/dist-packages (from tensorflow) (0.2.2)\n",
            "Requirement already satisfied: opt-einsum>=2.3.2 in /usr/local/lib/python3.6/dist-packages (from tensorflow) (3.1.0)\n",
            "Requirement already satisfied: absl-py>=0.7.0 in /usr/local/lib/python3.6/dist-packages (from tensorflow) (0.9.0)\n",
            "Requirement already satisfied: keras-applications>=1.0.8 in /usr/local/lib/python3.6/dist-packages (from tensorflow) (1.0.8)\n",
            "Requirement already satisfied: google-pasta>=0.1.6 in /usr/local/lib/python3.6/dist-packages (from tensorflow) (0.1.8)\n",
            "Requirement already satisfied: astor>=0.6.0 in /usr/local/lib/python3.6/dist-packages (from tensorflow) (0.8.1)\n",
            "Requirement already satisfied: protobuf>=3.6.1 in /usr/local/lib/python3.6/dist-packages (from tensorflow) (3.10.0)\n",
            "Requirement already satisfied: wheel>=0.26 in /usr/local/lib/python3.6/dist-packages (from tensorflow) (0.34.2)\n",
            "Requirement already satisfied: keras-preprocessing>=1.0.5 in /usr/local/lib/python3.6/dist-packages (from tensorflow) (1.1.0)\n",
            "Requirement already satisfied: setuptools>=41.0.0 in /usr/local/lib/python3.6/dist-packages (from tensorboard<1.16.0,>=1.15.0->tensorflow) (45.2.0)\n",
            "Requirement already satisfied: werkzeug>=0.11.15 in /usr/local/lib/python3.6/dist-packages (from tensorboard<1.16.0,>=1.15.0->tensorflow) (1.0.0)\n",
            "Requirement already satisfied: markdown>=2.6.8 in /usr/local/lib/python3.6/dist-packages (from tensorboard<1.16.0,>=1.15.0->tensorflow) (3.2.1)\n",
            "Requirement already satisfied: h5py in /usr/local/lib/python3.6/dist-packages (from keras-applications>=1.0.8->tensorflow) (2.8.0)\n"
          ],
          "name": "stdout"
        }
      ]
    },
    {
      "cell_type": "code",
      "metadata": {
        "id": "uRo7EBK__Q2O",
        "colab_type": "code",
        "outputId": "b3982264-cc78-45cf-c253-84c944ae97dc",
        "colab": {
          "base_uri": "https://localhost:8080/",
          "height": 34
        }
      },
      "source": [
        "import tensorflow as tf\n",
        "\n",
        "print(tf.__version__)"
      ],
      "execution_count": 15,
      "outputs": [
        {
          "output_type": "stream",
          "text": [
            "1.15.0\n"
          ],
          "name": "stdout"
        }
      ]
    },
    {
      "cell_type": "code",
      "metadata": {
        "id": "rBKaYdM6_8v0",
        "colab_type": "code",
        "outputId": "411f962a-d412-4b34-c69d-90233fbf8d2b",
        "colab": {
          "base_uri": "https://localhost:8080/",
          "height": 153
        }
      },
      "source": [
        "!pip install keras"
      ],
      "execution_count": 16,
      "outputs": [
        {
          "output_type": "stream",
          "text": [
            "Requirement already satisfied: keras in /usr/local/lib/python3.6/dist-packages (2.2.5)\n",
            "Requirement already satisfied: scipy>=0.14 in /usr/local/lib/python3.6/dist-packages (from keras) (1.4.1)\n",
            "Requirement already satisfied: keras-preprocessing>=1.1.0 in /usr/local/lib/python3.6/dist-packages (from keras) (1.1.0)\n",
            "Requirement already satisfied: pyyaml in /usr/local/lib/python3.6/dist-packages (from keras) (3.13)\n",
            "Requirement already satisfied: numpy>=1.9.1 in /usr/local/lib/python3.6/dist-packages (from keras) (1.17.5)\n",
            "Requirement already satisfied: keras-applications>=1.0.8 in /usr/local/lib/python3.6/dist-packages (from keras) (1.0.8)\n",
            "Requirement already satisfied: h5py in /usr/local/lib/python3.6/dist-packages (from keras) (2.8.0)\n",
            "Requirement already satisfied: six>=1.9.0 in /usr/local/lib/python3.6/dist-packages (from keras) (1.12.0)\n"
          ],
          "name": "stdout"
        }
      ]
    },
    {
      "cell_type": "code",
      "metadata": {
        "id": "tfUdnXK9AD5z",
        "colab_type": "code",
        "outputId": "ce7f88d4-2d10-4b5d-deea-7f55921394cd",
        "colab": {
          "base_uri": "https://localhost:8080/",
          "height": 34
        }
      },
      "source": [
        "import keras\n",
        "\n",
        "print(keras.__version__)"
      ],
      "execution_count": 17,
      "outputs": [
        {
          "output_type": "stream",
          "text": [
            "2.2.5\n"
          ],
          "name": "stdout"
        }
      ]
    },
    {
      "cell_type": "code",
      "metadata": {
        "id": "wCADwJbjAQ19",
        "colab_type": "code",
        "colab": {}
      },
      "source": [
        "BATCH_SIZE = 128\n",
        "NUM_CLASSES = 10\n",
        "EPOCHS = 10\n",
        "IMG_ROWS, IMG_COLS = 28, 28"
      ],
      "execution_count": 0,
      "outputs": []
    },
    {
      "cell_type": "code",
      "metadata": {
        "id": "6PjihT2BDpE0",
        "colab_type": "code",
        "colab": {}
      },
      "source": [
        "handwritten_number_names = ['0', '1', '2', '3', '4', '5', '6', '7', '8', '9']"
      ],
      "execution_count": 0,
      "outputs": []
    },
    {
      "cell_type": "code",
      "metadata": {
        "id": "dCvawMjnEAtp",
        "colab_type": "code",
        "outputId": "21cfb56e-d736-4c97-a810-afddfe37a77f",
        "colab": {
          "base_uri": "https://localhost:8080/",
          "height": 51
        }
      },
      "source": [
        "from keras.datasets import mnist\n",
        "\n",
        "(train_data, train_teacher_labels), (test_data, test_teacher_labels) = mnist.load_data()\n",
        "\n",
        "print('ロードしたあとの学習データ train_data shape : ', train_data.shape)\n",
        "print('ロードしたあとの検証データ test_data shape : ', test_data.shape)"
      ],
      "execution_count": 20,
      "outputs": [
        {
          "output_type": "stream",
          "text": [
            "ロードしたあとの学習データ train_data shape :  (60000, 28, 28)\n",
            "ロードしたあとの検証データ test_data shape :  (10000, 28, 28)\n"
          ],
          "name": "stdout"
        }
      ]
    },
    {
      "cell_type": "markdown",
      "metadata": {
        "id": "R8jhOMWNE71Z",
        "colab_type": "text"
      },
      "source": [
        "* **学習データ**：学習フェーズで使用するデータ。データセットの７割、８割を学習データとして使うのが一般的。\n",
        "* **検証データ**：学習後、学習済みモデルの性能をテストするためのデータ。データセットの学習データ以外の２割、３割のデータを使うのが一般的。"
      ]
    },
    {
      "cell_type": "markdown",
      "metadata": {
        "id": "PWXSitr3Emgj",
        "colab_type": "text"
      },
      "source": [
        "## 学習モデルに合わせたデータ配列の形状変換とデータ調整"
      ]
    },
    {
      "cell_type": "code",
      "metadata": {
        "id": "5Mp4dT9OFenK",
        "colab_type": "code",
        "colab": {
          "base_uri": "https://localhost:8080/",
          "height": 85
        },
        "outputId": "b7d5c984-f436-450d-bacc-bf0bd179784c"
      },
      "source": [
        "from keras import backend as Keras\n",
        "\n",
        "print('Channel調節変換前 train_data shape : ', train_data.shape)\n",
        "print('Channel調節変換前 test_data shape : ', test_data.shape)\n",
        "\n",
        "if Keras.image_data_format() == 'channels_first' :\n",
        "  train_data = train_data.reshape(train_data.shape[0], 1, IMG_ROWS, IMG_COLS)\n",
        "  test_data = test_data.reshape(test_data.shape[0], 1, IMG_ROWS, IMG_COLS)\n",
        "  input_shape = (1, IMG_ROWS, IMG_COLS)\n",
        "else :\n",
        "  train_data = train_data.reshape(train_data.shape[0], IMG_ROWS, IMG_COLS, 1)\n",
        "  test_data = test_data.reshape(test_data.shape[0], IMG_ROWS, IMG_COLS, 1)\n",
        "  input_shape = (IMG_ROWS, IMG_COLS, 1)\n",
        "\n",
        "print('Channel調節変換後 train_data shape : ', train_data.shape)\n",
        "print('Channel調節変換後 test_data shape : ', test_data.shape)\n"
      ],
      "execution_count": 21,
      "outputs": [
        {
          "output_type": "stream",
          "text": [
            "Channel調節変換前 train_data shape :  (60000, 28, 28)\n",
            "Channel調節変換前 test_data shape :  (10000, 28, 28)\n",
            "Channel調節変換後 train_data shape :  (60000, 28, 28, 1)\n",
            "Channel調節変換後 test_data shape :  (10000, 28, 28, 1)\n"
          ],
          "name": "stdout"
        }
      ]
    },
    {
      "cell_type": "code",
      "metadata": {
        "id": "ENZBTdd4IkO8",
        "colab_type": "code",
        "colab": {
          "base_uri": "https://localhost:8080/",
          "height": 1000
        },
        "outputId": "80552a95-9b42-40da-e2c4-9b17cd66ace3"
      },
      "source": [
        "train_data = train_data.astype('float32')\n",
        "test_data = test_data.astype('float32')\n",
        "\n",
        "print(test_data)"
      ],
      "execution_count": 22,
      "outputs": [
        {
          "output_type": "stream",
          "text": [
            "[[[[0.]\n",
            "   [0.]\n",
            "   [0.]\n",
            "   ...\n",
            "   [0.]\n",
            "   [0.]\n",
            "   [0.]]\n",
            "\n",
            "  [[0.]\n",
            "   [0.]\n",
            "   [0.]\n",
            "   ...\n",
            "   [0.]\n",
            "   [0.]\n",
            "   [0.]]\n",
            "\n",
            "  [[0.]\n",
            "   [0.]\n",
            "   [0.]\n",
            "   ...\n",
            "   [0.]\n",
            "   [0.]\n",
            "   [0.]]\n",
            "\n",
            "  ...\n",
            "\n",
            "  [[0.]\n",
            "   [0.]\n",
            "   [0.]\n",
            "   ...\n",
            "   [0.]\n",
            "   [0.]\n",
            "   [0.]]\n",
            "\n",
            "  [[0.]\n",
            "   [0.]\n",
            "   [0.]\n",
            "   ...\n",
            "   [0.]\n",
            "   [0.]\n",
            "   [0.]]\n",
            "\n",
            "  [[0.]\n",
            "   [0.]\n",
            "   [0.]\n",
            "   ...\n",
            "   [0.]\n",
            "   [0.]\n",
            "   [0.]]]\n",
            "\n",
            "\n",
            " [[[0.]\n",
            "   [0.]\n",
            "   [0.]\n",
            "   ...\n",
            "   [0.]\n",
            "   [0.]\n",
            "   [0.]]\n",
            "\n",
            "  [[0.]\n",
            "   [0.]\n",
            "   [0.]\n",
            "   ...\n",
            "   [0.]\n",
            "   [0.]\n",
            "   [0.]]\n",
            "\n",
            "  [[0.]\n",
            "   [0.]\n",
            "   [0.]\n",
            "   ...\n",
            "   [0.]\n",
            "   [0.]\n",
            "   [0.]]\n",
            "\n",
            "  ...\n",
            "\n",
            "  [[0.]\n",
            "   [0.]\n",
            "   [0.]\n",
            "   ...\n",
            "   [0.]\n",
            "   [0.]\n",
            "   [0.]]\n",
            "\n",
            "  [[0.]\n",
            "   [0.]\n",
            "   [0.]\n",
            "   ...\n",
            "   [0.]\n",
            "   [0.]\n",
            "   [0.]]\n",
            "\n",
            "  [[0.]\n",
            "   [0.]\n",
            "   [0.]\n",
            "   ...\n",
            "   [0.]\n",
            "   [0.]\n",
            "   [0.]]]\n",
            "\n",
            "\n",
            " [[[0.]\n",
            "   [0.]\n",
            "   [0.]\n",
            "   ...\n",
            "   [0.]\n",
            "   [0.]\n",
            "   [0.]]\n",
            "\n",
            "  [[0.]\n",
            "   [0.]\n",
            "   [0.]\n",
            "   ...\n",
            "   [0.]\n",
            "   [0.]\n",
            "   [0.]]\n",
            "\n",
            "  [[0.]\n",
            "   [0.]\n",
            "   [0.]\n",
            "   ...\n",
            "   [0.]\n",
            "   [0.]\n",
            "   [0.]]\n",
            "\n",
            "  ...\n",
            "\n",
            "  [[0.]\n",
            "   [0.]\n",
            "   [0.]\n",
            "   ...\n",
            "   [0.]\n",
            "   [0.]\n",
            "   [0.]]\n",
            "\n",
            "  [[0.]\n",
            "   [0.]\n",
            "   [0.]\n",
            "   ...\n",
            "   [0.]\n",
            "   [0.]\n",
            "   [0.]]\n",
            "\n",
            "  [[0.]\n",
            "   [0.]\n",
            "   [0.]\n",
            "   ...\n",
            "   [0.]\n",
            "   [0.]\n",
            "   [0.]]]\n",
            "\n",
            "\n",
            " ...\n",
            "\n",
            "\n",
            " [[[0.]\n",
            "   [0.]\n",
            "   [0.]\n",
            "   ...\n",
            "   [0.]\n",
            "   [0.]\n",
            "   [0.]]\n",
            "\n",
            "  [[0.]\n",
            "   [0.]\n",
            "   [0.]\n",
            "   ...\n",
            "   [0.]\n",
            "   [0.]\n",
            "   [0.]]\n",
            "\n",
            "  [[0.]\n",
            "   [0.]\n",
            "   [0.]\n",
            "   ...\n",
            "   [0.]\n",
            "   [0.]\n",
            "   [0.]]\n",
            "\n",
            "  ...\n",
            "\n",
            "  [[0.]\n",
            "   [0.]\n",
            "   [0.]\n",
            "   ...\n",
            "   [0.]\n",
            "   [0.]\n",
            "   [0.]]\n",
            "\n",
            "  [[0.]\n",
            "   [0.]\n",
            "   [0.]\n",
            "   ...\n",
            "   [0.]\n",
            "   [0.]\n",
            "   [0.]]\n",
            "\n",
            "  [[0.]\n",
            "   [0.]\n",
            "   [0.]\n",
            "   ...\n",
            "   [0.]\n",
            "   [0.]\n",
            "   [0.]]]\n",
            "\n",
            "\n",
            " [[[0.]\n",
            "   [0.]\n",
            "   [0.]\n",
            "   ...\n",
            "   [0.]\n",
            "   [0.]\n",
            "   [0.]]\n",
            "\n",
            "  [[0.]\n",
            "   [0.]\n",
            "   [0.]\n",
            "   ...\n",
            "   [0.]\n",
            "   [0.]\n",
            "   [0.]]\n",
            "\n",
            "  [[0.]\n",
            "   [0.]\n",
            "   [0.]\n",
            "   ...\n",
            "   [0.]\n",
            "   [0.]\n",
            "   [0.]]\n",
            "\n",
            "  ...\n",
            "\n",
            "  [[0.]\n",
            "   [0.]\n",
            "   [0.]\n",
            "   ...\n",
            "   [0.]\n",
            "   [0.]\n",
            "   [0.]]\n",
            "\n",
            "  [[0.]\n",
            "   [0.]\n",
            "   [0.]\n",
            "   ...\n",
            "   [0.]\n",
            "   [0.]\n",
            "   [0.]]\n",
            "\n",
            "  [[0.]\n",
            "   [0.]\n",
            "   [0.]\n",
            "   ...\n",
            "   [0.]\n",
            "   [0.]\n",
            "   [0.]]]\n",
            "\n",
            "\n",
            " [[[0.]\n",
            "   [0.]\n",
            "   [0.]\n",
            "   ...\n",
            "   [0.]\n",
            "   [0.]\n",
            "   [0.]]\n",
            "\n",
            "  [[0.]\n",
            "   [0.]\n",
            "   [0.]\n",
            "   ...\n",
            "   [0.]\n",
            "   [0.]\n",
            "   [0.]]\n",
            "\n",
            "  [[0.]\n",
            "   [0.]\n",
            "   [0.]\n",
            "   ...\n",
            "   [0.]\n",
            "   [0.]\n",
            "   [0.]]\n",
            "\n",
            "  ...\n",
            "\n",
            "  [[0.]\n",
            "   [0.]\n",
            "   [0.]\n",
            "   ...\n",
            "   [0.]\n",
            "   [0.]\n",
            "   [0.]]\n",
            "\n",
            "  [[0.]\n",
            "   [0.]\n",
            "   [0.]\n",
            "   ...\n",
            "   [0.]\n",
            "   [0.]\n",
            "   [0.]]\n",
            "\n",
            "  [[0.]\n",
            "   [0.]\n",
            "   [0.]\n",
            "   ...\n",
            "   [0.]\n",
            "   [0.]\n",
            "   [0.]]]]\n"
          ],
          "name": "stdout"
        }
      ]
    },
    {
      "cell_type": "code",
      "metadata": {
        "id": "XX54JGB3JJlW",
        "colab_type": "code",
        "colab": {
          "base_uri": "https://localhost:8080/",
          "height": 85
        },
        "outputId": "e825cc09-efe0-4bb8-822e-378bff416cae"
      },
      "source": [
        "train_data /= 255\n",
        "test_data /= 255\n",
        "\n",
        "print('学習データ　train_data shape : ', train_data.shape)\n",
        "print(train_data.shape[0], 'サンプルを学習します')\n",
        "print('検証データ　test_data shape : ', test_data.shape)\n",
        "print(test_data.shape[0], 'サンプルを検証します')"
      ],
      "execution_count": 23,
      "outputs": [
        {
          "output_type": "stream",
          "text": [
            "学習データ　train_data shape :  (60000, 28, 28, 1)\n",
            "60000 サンプルを学習します\n",
            "検証データ　test_data shape :  (10000, 28, 28, 1)\n",
            "10000 サンプルを検証します\n"
          ],
          "name": "stdout"
        }
      ]
    },
    {
      "cell_type": "markdown",
      "metadata": {
        "id": "VUCvz_ClKEbM",
        "colab_type": "text"
      },
      "source": [
        "## 教師ラベルデータの変換\n",
        "* Kerasで分類を行う際は、教師ラベルをOne-hotベクトル（1-of-k表現）変換する必要がある\n",
        "  * 学習プロセスのmodel.fit()に渡すデータのフォーマットに合わせるため"
      ]
    },
    {
      "cell_type": "code",
      "metadata": {
        "id": "I5nsFMZ_LI8a",
        "colab_type": "code",
        "colab": {
          "base_uri": "https://localhost:8080/",
          "height": 221
        },
        "outputId": "40e6b219-9b50-4e9b-dc8e-3ee97281147c"
      },
      "source": [
        "# 学習用教師ラベルデータをOne-hotベクトルに変換\n",
        "print('Keras変換前学習用教師ラベルデータ　train_teacher_labels shape : ', train_teacher_labels.shape)\n",
        "train_teacher_labels = keras.utils.to_categorical(train_teacher_labels, NUM_CLASSES)\n",
        "print('Keras変換後学習用教師ラベルデータ　train_teacher_labels shape : ', train_teacher_labels.shape)\n",
        "\n",
        "# 検証用教師ラベルデータをOne-hotベクトルに変換\n",
        "print('Keras変換前検証用教師ラベルデータ　test_teacher_labels shape : ', test_teacher_labels.shape)\n",
        "print(test_teacher_labels)\n",
        "test_teacher_labels = keras.utils.to_categorical(test_teacher_labels, NUM_CLASSES)\n",
        "print('Keras変換後検証用教師ラベルデータ　test_teacher_labels shape : ', test_teacher_labels.shape)\n",
        "print(test_teacher_labels)"
      ],
      "execution_count": 24,
      "outputs": [
        {
          "output_type": "stream",
          "text": [
            "Keras変換前学習用教師ラベルデータ　train_teacher_labels shape :  (60000,)\n",
            "Keras変換後学習用教師ラベルデータ　train_teacher_labels shape :  (60000, 10)\n",
            "Keras変換前検証用教師ラベルデータ　test_teacher_labels shape :  (10000,)\n",
            "[7 2 1 ... 4 5 6]\n",
            "Keras変換後検証用教師ラベルデータ　test_teacher_labels shape :  (10000, 10)\n",
            "[[0. 0. 0. ... 1. 0. 0.]\n",
            " [0. 0. 1. ... 0. 0. 0.]\n",
            " [0. 1. 0. ... 0. 0. 0.]\n",
            " ...\n",
            " [0. 0. 0. ... 0. 0. 0.]\n",
            " [0. 0. 0. ... 0. 0. 0.]\n",
            " [0. 0. 0. ... 0. 0. 0.]]\n"
          ],
          "name": "stdout"
        }
      ]
    },
    {
      "cell_type": "markdown",
      "metadata": {
        "id": "13Yti1jEM7lo",
        "colab_type": "text"
      },
      "source": [
        "## ニューラルネットワークのモデルの構築"
      ]
    },
    {
      "cell_type": "markdown",
      "metadata": {
        "id": "0Y4PLt9ANRyq",
        "colab_type": "text"
      },
      "source": [
        "### シーケンシャルモデル指定"
      ]
    },
    {
      "cell_type": "code",
      "metadata": {
        "id": "74CQrktsNWP1",
        "colab_type": "code",
        "colab": {
          "base_uri": "https://localhost:8080/",
          "height": 71
        },
        "outputId": "b75f23f6-1ec6-4dc8-d6c1-d4ac71f2d1dc"
      },
      "source": [
        "from keras.models import Sequential\n",
        "\n",
        "model = Sequential()"
      ],
      "execution_count": 25,
      "outputs": [
        {
          "output_type": "stream",
          "text": [
            "WARNING:tensorflow:From /usr/local/lib/python3.6/dist-packages/keras/backend/tensorflow_backend.py:66: The name tf.get_default_graph is deprecated. Please use tf.compat.v1.get_default_graph instead.\n",
            "\n"
          ],
          "name": "stdout"
        }
      ]
    },
    {
      "cell_type": "code",
      "metadata": {
        "id": "kMGyO0MCNmem",
        "colab_type": "code",
        "colab": {}
      },
      "source": [
        "from keras.layers import Dense, Dropout, Flatten\n",
        "from keras.layers import Conv2D, MaxPooling2D"
      ],
      "execution_count": 0,
      "outputs": []
    },
    {
      "cell_type": "markdown",
      "metadata": {
        "id": "OxrHpY_9OrPx",
        "colab_type": "text"
      },
      "source": [
        "### ニューラルネットワークの構築"
      ]
    },
    {
      "cell_type": "code",
      "metadata": {
        "id": "SfPDd2YEOvIO",
        "colab_type": "code",
        "colab": {
          "base_uri": "https://localhost:8080/",
          "height": 598
        },
        "outputId": "f731d1fb-e513-4096-e01a-992b10855e67"
      },
      "source": [
        "model.add(Conv2D(32, kernel_size=(3, 3), activation='relu', input_shape=input_shape))\n",
        "model.add(Conv2D(64, (3, 3), activation='relu'))\n",
        "model.add(MaxPooling2D(pool_size=(2, 2)))\n",
        "model.add(Dropout(0.25))\n",
        "model.add(Flatten())\n",
        "model.add(Dense(128, activation='relu'))\n",
        "model.add(Dropout(0.5))\n",
        "model.add(Dense(NUM_CLASSES, activation='softmax'))\n",
        "\n",
        "model.summary()"
      ],
      "execution_count": 28,
      "outputs": [
        {
          "output_type": "stream",
          "text": [
            "WARNING:tensorflow:From /usr/local/lib/python3.6/dist-packages/keras/backend/tensorflow_backend.py:4267: The name tf.nn.max_pool is deprecated. Please use tf.nn.max_pool2d instead.\n",
            "\n",
            "WARNING:tensorflow:From /usr/local/lib/python3.6/dist-packages/keras/backend/tensorflow_backend.py:148: The name tf.placeholder_with_default is deprecated. Please use tf.compat.v1.placeholder_with_default instead.\n",
            "\n",
            "WARNING:tensorflow:From /usr/local/lib/python3.6/dist-packages/keras/backend/tensorflow_backend.py:3733: calling dropout (from tensorflow.python.ops.nn_ops) with keep_prob is deprecated and will be removed in a future version.\n",
            "Instructions for updating:\n",
            "Please use `rate` instead of `keep_prob`. Rate should be set to `rate = 1 - keep_prob`.\n",
            "Model: \"sequential_1\"\n",
            "_________________________________________________________________\n",
            "Layer (type)                 Output Shape              Param #   \n",
            "=================================================================\n",
            "conv2d_1 (Conv2D)            (None, 26, 26, 32)        320       \n",
            "_________________________________________________________________\n",
            "conv2d_2 (Conv2D)            (None, 24, 24, 32)        9248      \n",
            "_________________________________________________________________\n",
            "conv2d_3 (Conv2D)            (None, 22, 22, 64)        18496     \n",
            "_________________________________________________________________\n",
            "max_pooling2d_1 (MaxPooling2 (None, 11, 11, 64)        0         \n",
            "_________________________________________________________________\n",
            "dropout_1 (Dropout)          (None, 11, 11, 64)        0         \n",
            "_________________________________________________________________\n",
            "flatten_1 (Flatten)          (None, 7744)              0         \n",
            "_________________________________________________________________\n",
            "dense_1 (Dense)              (None, 128)               991360    \n",
            "_________________________________________________________________\n",
            "dropout_2 (Dropout)          (None, 128)               0         \n",
            "_________________________________________________________________\n",
            "dense_2 (Dense)              (None, 10)                1290      \n",
            "=================================================================\n",
            "Total params: 1,020,714\n",
            "Trainable params: 1,020,714\n",
            "Non-trainable params: 0\n",
            "_________________________________________________________________\n"
          ],
          "name": "stdout"
        }
      ]
    },
    {
      "cell_type": "markdown",
      "metadata": {
        "id": "-S0QD77HP295",
        "colab_type": "text"
      },
      "source": [
        "### モデルのコンパイル\n",
        "どのような学習処理を行うか以下の設定が必要\n",
        "* 最適化アルゴリズム\n",
        "* 損失関数\n",
        "* 評価関数のリスト"
      ]
    },
    {
      "cell_type": "code",
      "metadata": {
        "id": "1psO4LvMQfpf",
        "colab_type": "code",
        "colab": {
          "base_uri": "https://localhost:8080/",
          "height": 105
        },
        "outputId": "0a9a4766-9249-4b34-c361-43a92b180ba4"
      },
      "source": [
        "model.compile(optimizer=keras.optimizers.Adadelta(),\n",
        "              loss=keras.losses.categorical_crossentropy,\n",
        "              metrics=['accuracy'])"
      ],
      "execution_count": 29,
      "outputs": [
        {
          "output_type": "stream",
          "text": [
            "WARNING:tensorflow:From /usr/local/lib/python3.6/dist-packages/keras/optimizers.py:793: The name tf.train.Optimizer is deprecated. Please use tf.compat.v1.train.Optimizer instead.\n",
            "\n",
            "WARNING:tensorflow:From /usr/local/lib/python3.6/dist-packages/keras/backend/tensorflow_backend.py:3576: The name tf.log is deprecated. Please use tf.math.log instead.\n",
            "\n"
          ],
          "name": "stdout"
        }
      ]
    },
    {
      "cell_type": "markdown",
      "metadata": {
        "id": "Bv-9eEb2RJNr",
        "colab_type": "text"
      },
      "source": [
        "## 学習"
      ]
    },
    {
      "cell_type": "code",
      "metadata": {
        "id": "3QC7iBE9RMEQ",
        "colab_type": "code",
        "colab": {}
      },
      "source": [
        "import matplotlib.pyplot as plt\n",
        "\n",
        "\n",
        "def plot_loss_accuracy_graph(fir_record) :\n",
        "  plt.plot(fit_record.history['loss'], \"-D\", color=\"blue\", label=\"train_loss\", linewidth=2)\n",
        "  plt.plot(fit_record.history['val_loss'], \"-D\", color=\"black\", label=\"val_loss\", linewidth=2)\n",
        "  plt.title('LOSS')\n",
        "  plt.xlabel(\"Epochs\")\n",
        "  plt.ylabel(\"Loss\")\n",
        "  plt.legend(loc=\"upper right\")\n",
        "  plt.show()\n",
        "\n",
        "  plt.plot(fit_record.history['acc'], \"-o\", color=\"green\", label=\"train_accuracy\", linewidth=2)\n",
        "  plt.plot(fit_record.history['val_acc'], \"-D\", color=\"black\", label=\"val_accuracy\", linewidth=2)\n",
        "  plt.title('ACCURACY')\n",
        "  plt.xlabel(\"Epochs\")\n",
        "  plt.ylabel(\"Accuracy\")\n",
        "  plt.legend(loc=\"lower right\")\n",
        "  plt.show()\n",
        "\n"
      ],
      "execution_count": 0,
      "outputs": []
    },
    {
      "cell_type": "code",
      "metadata": {
        "id": "qdTIuE6fTNnF",
        "colab_type": "code",
        "colab": {
          "base_uri": "https://localhost:8080/",
          "height": 734
        },
        "outputId": "37b387c7-ac5f-4ee1-db49-5dd9d1f676f6"
      },
      "source": [
        "print('反復学習回数 : ', EPOCHS)\n",
        "fit_record = model.fit(train_data,\n",
        "                       train_teacher_labels,\n",
        "                       batch_size=BATCH_SIZE,\n",
        "                       epochs=EPOCHS,\n",
        "                       verbose=1,\n",
        "                       validation_data=(test_data, test_teacher_labels)\n",
        "                       )"
      ],
      "execution_count": 34,
      "outputs": [
        {
          "output_type": "stream",
          "text": [
            "反復学習回数 :  10\n",
            "WARNING:tensorflow:From /usr/local/lib/python3.6/dist-packages/tensorflow_core/python/ops/math_grad.py:1424: where (from tensorflow.python.ops.array_ops) is deprecated and will be removed in a future version.\n",
            "Instructions for updating:\n",
            "Use tf.where in 2.0, which has the same broadcast rule as np.where\n",
            "WARNING:tensorflow:From /usr/local/lib/python3.6/dist-packages/keras/backend/tensorflow_backend.py:1033: The name tf.assign_add is deprecated. Please use tf.compat.v1.assign_add instead.\n",
            "\n",
            "WARNING:tensorflow:From /usr/local/lib/python3.6/dist-packages/keras/backend/tensorflow_backend.py:1020: The name tf.assign is deprecated. Please use tf.compat.v1.assign instead.\n",
            "\n",
            "WARNING:tensorflow:From /usr/local/lib/python3.6/dist-packages/keras/backend/tensorflow_backend.py:3005: The name tf.Session is deprecated. Please use tf.compat.v1.Session instead.\n",
            "\n",
            "Train on 60000 samples, validate on 10000 samples\n",
            "Epoch 1/10\n",
            "WARNING:tensorflow:From /usr/local/lib/python3.6/dist-packages/keras/backend/tensorflow_backend.py:190: The name tf.get_default_session is deprecated. Please use tf.compat.v1.get_default_session instead.\n",
            "\n",
            "WARNING:tensorflow:From /usr/local/lib/python3.6/dist-packages/keras/backend/tensorflow_backend.py:197: The name tf.ConfigProto is deprecated. Please use tf.compat.v1.ConfigProto instead.\n",
            "\n",
            "WARNING:tensorflow:From /usr/local/lib/python3.6/dist-packages/keras/backend/tensorflow_backend.py:207: The name tf.global_variables is deprecated. Please use tf.compat.v1.global_variables instead.\n",
            "\n",
            "WARNING:tensorflow:From /usr/local/lib/python3.6/dist-packages/keras/backend/tensorflow_backend.py:216: The name tf.is_variable_initialized is deprecated. Please use tf.compat.v1.is_variable_initialized instead.\n",
            "\n",
            "WARNING:tensorflow:From /usr/local/lib/python3.6/dist-packages/keras/backend/tensorflow_backend.py:223: The name tf.variables_initializer is deprecated. Please use tf.compat.v1.variables_initializer instead.\n",
            "\n",
            "60000/60000 [==============================] - 202s 3ms/step - loss: 0.2603 - acc: 0.9192 - val_loss: 0.0498 - val_acc: 0.9836\n",
            "Epoch 2/10\n",
            "60000/60000 [==============================] - 200s 3ms/step - loss: 0.0808 - acc: 0.9762 - val_loss: 0.0417 - val_acc: 0.9863\n",
            "Epoch 3/10\n",
            "60000/60000 [==============================] - 200s 3ms/step - loss: 0.0614 - acc: 0.9819 - val_loss: 0.0304 - val_acc: 0.9895\n",
            "Epoch 4/10\n",
            "60000/60000 [==============================] - 200s 3ms/step - loss: 0.0496 - acc: 0.9854 - val_loss: 0.0296 - val_acc: 0.9900\n",
            "Epoch 5/10\n",
            "60000/60000 [==============================] - 202s 3ms/step - loss: 0.0430 - acc: 0.9870 - val_loss: 0.0274 - val_acc: 0.9900\n",
            "Epoch 6/10\n",
            "60000/60000 [==============================] - 204s 3ms/step - loss: 0.0366 - acc: 0.9892 - val_loss: 0.0251 - val_acc: 0.9925\n",
            "Epoch 7/10\n",
            "60000/60000 [==============================] - 202s 3ms/step - loss: 0.0337 - acc: 0.9898 - val_loss: 0.0248 - val_acc: 0.9921\n",
            "Epoch 8/10\n",
            "60000/60000 [==============================] - 206s 3ms/step - loss: 0.0306 - acc: 0.9905 - val_loss: 0.0275 - val_acc: 0.9915\n",
            "Epoch 9/10\n",
            "60000/60000 [==============================] - 205s 3ms/step - loss: 0.0279 - acc: 0.9917 - val_loss: 0.0257 - val_acc: 0.9922\n",
            "Epoch 10/10\n",
            "60000/60000 [==============================] - 208s 3ms/step - loss: 0.0270 - acc: 0.9920 - val_loss: 0.0216 - val_acc: 0.9929\n"
          ],
          "name": "stdout"
        }
      ]
    },
    {
      "cell_type": "code",
      "metadata": {
        "id": "wqa9rdVRblX7",
        "colab_type": "code",
        "colab": {
          "base_uri": "https://localhost:8080/",
          "height": 573
        },
        "outputId": "8d057fe7-0da9-4426-d28e-88c9854b1cd8"
      },
      "source": [
        "plot_loss_accuracy_graph(fit_record)"
      ],
      "execution_count": 37,
      "outputs": [
        {
          "output_type": "display_data",
          "data": {
            "image/png": "[encoded data removed]",
            "text/plain": [
              "<Figure size 432x288 with 1 Axes>"
            ]
          },
          "metadata": {
            "tags": []
          }
        },
        {
          "output_type": "display_data",
          "data": {
            "image/png": "[encoded data removed]",
            "text/plain": [
              "<Figure size 432x288 with 1 Axes>"
            ]
          },
          "metadata": {
            "tags": []
          }
        }
      ]
    }
  ]
}