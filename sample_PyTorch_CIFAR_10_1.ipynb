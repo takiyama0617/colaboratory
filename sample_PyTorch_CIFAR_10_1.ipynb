{
  "nbformat": 4,
  "nbformat_minor": 0,
  "metadata": {
    "colab": {
      "name": "sample_PyTorch_CIFAR-10_1.ipynb",
      "provenance": [],
      "collapsed_sections": [],
      "toc_visible": true,
      "authorship_tag": "ABX9TyP5zRAiT4c2jsNzNsfSRojX",
      "include_colab_link": true
    },
    "kernelspec": {
      "name": "python3",
      "display_name": "Python 3"
    },
    "accelerator": "GPU",
    "widgets": {
      "application/vnd.jupyter.widget-state+json": {
        "30e7d23734074325a8775f1d53a91ceb": {
          "model_module": "@jupyter-widgets/controls",
          "model_name": "HBoxModel",
          "state": {
            "_view_name": "HBoxView",
            "_dom_classes": [],
            "_model_name": "HBoxModel",
            "_view_module": "@jupyter-widgets/controls",
            "_model_module_version": "1.5.0",
            "_view_count": null,
            "_view_module_version": "1.5.0",
            "box_style": "",
            "layout": "IPY_MODEL_8058548eb96742dd92721e50b093200e",
            "_model_module": "@jupyter-widgets/controls",
            "children": [
              "IPY_MODEL_cbee9f3715cf4c38abf9460c41ed1e25",
              "IPY_MODEL_6b5fbdf8f80d45f5a585839e711e257a"
            ]
          }
        },
        "8058548eb96742dd92721e50b093200e": {
          "model_module": "@jupyter-widgets/base",
          "model_name": "LayoutModel",
          "state": {
            "_view_name": "LayoutView",
            "grid_template_rows": null,
            "right": null,
            "justify_content": null,
            "_view_module": "@jupyter-widgets/base",
            "overflow": null,
            "_model_module_version": "1.2.0",
            "_view_count": null,
            "flex_flow": null,
            "width": null,
            "min_width": null,
            "border": null,
            "align_items": null,
            "bottom": null,
            "_model_module": "@jupyter-widgets/base",
            "top": null,
            "grid_column": null,
            "overflow_y": null,
            "overflow_x": null,
            "grid_auto_flow": null,
            "grid_area": null,
            "grid_template_columns": null,
            "flex": null,
            "_model_name": "LayoutModel",
            "justify_items": null,
            "grid_row": null,
            "max_height": null,
            "align_content": null,
            "visibility": null,
            "align_self": null,
            "height": null,
            "min_height": null,
            "padding": null,
            "grid_auto_rows": null,
            "grid_gap": null,
            "max_width": null,
            "order": null,
            "_view_module_version": "1.2.0",
            "grid_template_areas": null,
            "object_position": null,
            "object_fit": null,
            "grid_auto_columns": null,
            "margin": null,
            "display": null,
            "left": null
          }
        },
        "cbee9f3715cf4c38abf9460c41ed1e25": {
          "model_module": "@jupyter-widgets/controls",
          "model_name": "IntProgressModel",
          "state": {
            "_view_name": "ProgressView",
            "style": "IPY_MODEL_a7741526e98e485aa511daf3376738bc",
            "_dom_classes": [],
            "description": "",
            "_model_name": "IntProgressModel",
            "bar_style": "success",
            "max": 1,
            "_view_module": "@jupyter-widgets/controls",
            "_model_module_version": "1.5.0",
            "value": 1,
            "_view_count": null,
            "_view_module_version": "1.5.0",
            "orientation": "horizontal",
            "min": 0,
            "description_tooltip": null,
            "_model_module": "@jupyter-widgets/controls",
            "layout": "IPY_MODEL_e883abdd5ec04e86be2b4fd21224bf92"
          }
        },
        "6b5fbdf8f80d45f5a585839e711e257a": {
          "model_module": "@jupyter-widgets/controls",
          "model_name": "HTMLModel",
          "state": {
            "_view_name": "HTMLView",
            "style": "IPY_MODEL_247bc7403c584aeab5891d9e6ffe56eb",
            "_dom_classes": [],
            "description": "",
            "_model_name": "HTMLModel",
            "placeholder": "​",
            "_view_module": "@jupyter-widgets/controls",
            "_model_module_version": "1.5.0",
            "value": "170500096it [00:06, 26250664.35it/s]",
            "_view_count": null,
            "_view_module_version": "1.5.0",
            "description_tooltip": null,
            "_model_module": "@jupyter-widgets/controls",
            "layout": "IPY_MODEL_5c187b8fd3d04c55abec6f2145e0fa5d"
          }
        },
        "a7741526e98e485aa511daf3376738bc": {
          "model_module": "@jupyter-widgets/controls",
          "model_name": "ProgressStyleModel",
          "state": {
            "_view_name": "StyleView",
            "_model_name": "ProgressStyleModel",
            "description_width": "",
            "_view_module": "@jupyter-widgets/base",
            "_model_module_version": "1.5.0",
            "_view_count": null,
            "_view_module_version": "1.2.0",
            "bar_color": null,
            "_model_module": "@jupyter-widgets/controls"
          }
        },
        "e883abdd5ec04e86be2b4fd21224bf92": {
          "model_module": "@jupyter-widgets/base",
          "model_name": "LayoutModel",
          "state": {
            "_view_name": "LayoutView",
            "grid_template_rows": null,
            "right": null,
            "justify_content": null,
            "_view_module": "@jupyter-widgets/base",
            "overflow": null,
            "_model_module_version": "1.2.0",
            "_view_count": null,
            "flex_flow": null,
            "width": null,
            "min_width": null,
            "border": null,
            "align_items": null,
            "bottom": null,
            "_model_module": "@jupyter-widgets/base",
            "top": null,
            "grid_column": null,
            "overflow_y": null,
            "overflow_x": null,
            "grid_auto_flow": null,
            "grid_area": null,
            "grid_template_columns": null,
            "flex": null,
            "_model_name": "LayoutModel",
            "justify_items": null,
            "grid_row": null,
            "max_height": null,
            "align_content": null,
            "visibility": null,
            "align_self": null,
            "height": null,
            "min_height": null,
            "padding": null,
            "grid_auto_rows": null,
            "grid_gap": null,
            "max_width": null,
            "order": null,
            "_view_module_version": "1.2.0",
            "grid_template_areas": null,
            "object_position": null,
            "object_fit": null,
            "grid_auto_columns": null,
            "margin": null,
            "display": null,
            "left": null
          }
        },
        "247bc7403c584aeab5891d9e6ffe56eb": {
          "model_module": "@jupyter-widgets/controls",
          "model_name": "DescriptionStyleModel",
          "state": {
            "_view_name": "StyleView",
            "_model_name": "DescriptionStyleModel",
            "description_width": "",
            "_view_module": "@jupyter-widgets/base",
            "_model_module_version": "1.5.0",
            "_view_count": null,
            "_view_module_version": "1.2.0",
            "_model_module": "@jupyter-widgets/controls"
          }
        },
        "5c187b8fd3d04c55abec6f2145e0fa5d": {
          "model_module": "@jupyter-widgets/base",
          "model_name": "LayoutModel",
          "state": {
            "_view_name": "LayoutView",
            "grid_template_rows": null,
            "right": null,
            "justify_content": null,
            "_view_module": "@jupyter-widgets/base",
            "overflow": null,
            "_model_module_version": "1.2.0",
            "_view_count": null,
            "flex_flow": null,
            "width": null,
            "min_width": null,
            "border": null,
            "align_items": null,
            "bottom": null,
            "_model_module": "@jupyter-widgets/base",
            "top": null,
            "grid_column": null,
            "overflow_y": null,
            "overflow_x": null,
            "grid_auto_flow": null,
            "grid_area": null,
            "grid_template_columns": null,
            "flex": null,
            "_model_name": "LayoutModel",
            "justify_items": null,
            "grid_row": null,
            "max_height": null,
            "align_content": null,
            "visibility": null,
            "align_self": null,
            "height": null,
            "min_height": null,
            "padding": null,
            "grid_auto_rows": null,
            "grid_gap": null,
            "max_width": null,
            "order": null,
            "_view_module_version": "1.2.0",
            "grid_template_areas": null,
            "object_position": null,
            "object_fit": null,
            "grid_auto_columns": null,
            "margin": null,
            "display": null,
            "left": null
          }
        }
      }
    }
  },
  "cells": [
    {
      "cell_type": "markdown",
      "metadata": {
        "id": "view-in-github",
        "colab_type": "text"
      },
      "source": [
        "<a href=\"https://colab.research.google.com/github/takiyama0617/colaboratory/blob/master/sample_PyTorch_CIFAR_10_1.ipynb\" target=\"_parent\"><img src=\"https://colab.research.google.com/assets/colab-badge.svg\" alt=\"Open In Colab\"/></a>"
      ]
    },
    {
      "cell_type": "markdown",
      "metadata": {
        "id": "_5cdV5EyU-pU",
        "colab_type": "text"
      },
      "source": [
        "# CIFAR-10\n",
        "10クラス(airplane,automobile,bird,cat,deer,dog,frog,horse,ship,truck)の教師ラベルが付いている32*32のカラー画像6万枚のデータセット"
      ]
    },
    {
      "cell_type": "code",
      "metadata": {
        "id": "f35gKE9CUmbg",
        "colab_type": "code",
        "outputId": "472c4eac-616d-41cd-b717-f201b19fda00",
        "colab": {
          "base_uri": "https://localhost:8080/",
          "height": 102
        }
      },
      "source": [
        "!pip install torch torchvision"
      ],
      "execution_count": 1,
      "outputs": [
        {
          "output_type": "stream",
          "text": [
            "Requirement already satisfied: torch in /usr/local/lib/python3.6/dist-packages (1.4.0)\n",
            "Requirement already satisfied: torchvision in /usr/local/lib/python3.6/dist-packages (0.5.0)\n",
            "Requirement already satisfied: pillow>=4.1.1 in /usr/local/lib/python3.6/dist-packages (from torchvision) (6.2.2)\n",
            "Requirement already satisfied: six in /usr/local/lib/python3.6/dist-packages (from torchvision) (1.12.0)\n",
            "Requirement already satisfied: numpy in /usr/local/lib/python3.6/dist-packages (from torchvision) (1.17.5)\n"
          ],
          "name": "stdout"
        }
      ]
    },
    {
      "cell_type": "code",
      "metadata": {
        "id": "0Xwkd-V6Wtv6",
        "colab_type": "code",
        "colab": {}
      },
      "source": [
        "import torch\n",
        "import torchvision\n",
        "import torchvision.transforms as transforms"
      ],
      "execution_count": 0,
      "outputs": []
    },
    {
      "cell_type": "code",
      "metadata": {
        "id": "f-4MmJVoY0cd",
        "colab_type": "code",
        "colab": {}
      },
      "source": [
        "transform = transforms.Compose([transforms.ToTensor(), transforms.Normalize((0.5, 0.5, 0.5), (0.5, 0.5, 0.5))])"
      ],
      "execution_count": 0,
      "outputs": []
    },
    {
      "cell_type": "code",
      "metadata": {
        "id": "nX-J7zpYZmyB",
        "colab_type": "code",
        "outputId": "f5ff1e7e-e260-4ade-c668-b719a6fa5d30",
        "colab": {
          "base_uri": "https://localhost:8080/",
          "height": 117,
          "referenced_widgets": [
            "30e7d23734074325a8775f1d53a91ceb",
            "8058548eb96742dd92721e50b093200e",
            "cbee9f3715cf4c38abf9460c41ed1e25",
            "6b5fbdf8f80d45f5a585839e711e257a",
            "a7741526e98e485aa511daf3376738bc",
            "e883abdd5ec04e86be2b4fd21224bf92",
            "247bc7403c584aeab5891d9e6ffe56eb",
            "5c187b8fd3d04c55abec6f2145e0fa5d"
          ]
        }
      },
      "source": [
        "# 学習データ\n",
        "train_data_with_teacher_labels = torchvision.datasets.CIFAR10(root='./data', train=True, download=True, transform=transform)\n",
        "train_data_loader = torch.utils.data.DataLoader(train_data_with_teacher_labels, batch_size=4, shuffle=True)\n",
        "\n",
        "# 検証データ\n",
        "test_data_with_teacher_labels = torchvision.datasets.CIFAR10(root='./data', train=False, download=True, transform=transform)\n",
        "test_data_loader = torch.utils.data.DataLoader(test_data_with_teacher_labels, batch_size=4, shuffle=False)"
      ],
      "execution_count": 4,
      "outputs": [
        {
          "output_type": "stream",
          "text": [
            "Downloading https://www.cs.toronto.edu/~kriz/cifar-10-python.tar.gz to ./data/cifar-10-python.tar.gz\n"
          ],
          "name": "stdout"
        },
        {
          "output_type": "display_data",
          "data": {
            "application/vnd.jupyter.widget-view+json": {
              "model_id": "30e7d23734074325a8775f1d53a91ceb",
              "version_minor": 0,
              "version_major": 2
            },
            "text/plain": [
              "HBox(children=(IntProgress(value=1, bar_style='info', max=1), HTML(value='')))"
            ]
          },
          "metadata": {
            "tags": []
          }
        },
        {
          "output_type": "stream",
          "text": [
            "\n",
            "Extracting ./data/cifar-10-python.tar.gz to ./data\n",
            "Files already downloaded and verified\n"
          ],
          "name": "stdout"
        }
      ]
    },
    {
      "cell_type": "code",
      "metadata": {
        "id": "WzjtPYLVdG0X",
        "colab_type": "code",
        "colab": {}
      },
      "source": [
        "class_names = ('plane', 'car', 'bird', 'cat', 'deer', 'dog', 'frog', 'horse', 'ship', 'truck')"
      ],
      "execution_count": 0,
      "outputs": []
    },
    {
      "cell_type": "code",
      "metadata": {
        "id": "-vd5ddpxdzze",
        "colab_type": "code",
        "colab": {}
      },
      "source": [
        "import matplotlib.pyplot as plt\n",
        "import numpy as np"
      ],
      "execution_count": 0,
      "outputs": []
    },
    {
      "cell_type": "code",
      "metadata": {
        "id": "JuoOOtOueFee",
        "colab_type": "code",
        "colab": {}
      },
      "source": [
        "def show_image(img) :\n",
        "  img = img / 2 + 0.5\n",
        "  npimg = img.numpy()\n",
        "  plt.imshow(np.transpose(npimg, (1, 2, 0)))\n",
        "  plt.show()"
      ],
      "execution_count": 0,
      "outputs": []
    },
    {
      "cell_type": "code",
      "metadata": {
        "id": "MPLKl9joe6D7",
        "colab_type": "code",
        "outputId": "43fa4909-13d5-41d1-af54-f82fa25c62fd",
        "colab": {
          "base_uri": "https://localhost:8080/",
          "height": 155
        }
      },
      "source": [
        "data_iterator = iter(train_data_loader)\n",
        "images, labels = data_iterator.next()\n",
        "\n",
        "show_image(torchvision.utils.make_grid(images))\n",
        "print(' '.join('%5s' % class_names[labels[j]] for j in range(4)))"
      ],
      "execution_count": 8,
      "outputs": [
        {
          "output_type": "display_data",
          "data": {
            "image/png": "[encoded data removed]",
            "text/plain": [
              "<Figure size 432x288 with 1 Axes>"
            ]
          },
          "metadata": {
            "tags": []
          }
        },
        {
          "output_type": "stream",
          "text": [
            "plane truck  bird horse\n"
          ],
          "name": "stdout"
        }
      ]
    },
    {
      "cell_type": "markdown",
      "metadata": {
        "id": "N7BRqCXRhPbc",
        "colab_type": "text"
      },
      "source": [
        "## 学習のニューラルネットワークの定義"
      ]
    },
    {
      "cell_type": "code",
      "metadata": {
        "id": "dxMc_JElhWhS",
        "colab_type": "code",
        "colab": {}
      },
      "source": [
        "import torch.nn as nn\n",
        "import torch.nn.functional as F\n",
        "\n",
        "class CNN(nn.Module) :\n",
        "  def __init__(self) :\n",
        "    super(CNN, self).__init__()\n",
        "    self.conv1 = nn.Conv2d(3, 6, 5)\n",
        "    self.pool = nn.MaxPool2d(2, 2)\n",
        "    self.conv2 = nn.Conv2d(6, 16, 5)\n",
        "    self.layer1 = nn.Linear(16 * 5 * 5, 120)\n",
        "    self.layer2 = nn.Linear(120, 84)\n",
        "    self.layer3 = nn.Linear(84, 10)\n",
        "  \n",
        "  def forward(self, input_data) :\n",
        "    input_data = self.pool(F.relu(self.conv1(input_data)))\n",
        "    input_data = self.pool(F.relu(self.conv2(input_data)))\n",
        "    input_data = input_data.view(-1, 16 * 5 * 5)\n",
        "    input_data = F.relu(self.layer1(input_data))\n",
        "    input_data = F.relu(self.layer2(input_data))\n",
        "    input_data = self.layer3(input_data)\n",
        "    return input_data\n",
        "\n",
        "model = CNN()"
      ],
      "execution_count": 0,
      "outputs": []
    },
    {
      "cell_type": "markdown",
      "metadata": {
        "id": "SUn1LdrgbrZi",
        "colab_type": "text"
      },
      "source": [
        "### optimizerの設定"
      ]
    },
    {
      "cell_type": "code",
      "metadata": {
        "id": "beLWlzGTbwms",
        "colab_type": "code",
        "colab": {}
      },
      "source": [
        "import torch.optim as optimizer\n",
        "\n",
        "criterion = nn.CrossEntropyLoss()\n",
        "optimizer = optimizer.SGD(model.parameters(), lr=0.001, momentum=0.9)"
      ],
      "execution_count": 0,
      "outputs": []
    },
    {
      "cell_type": "markdown",
      "metadata": {
        "id": "WtSkkgzTcz0m",
        "colab_type": "text"
      },
      "source": [
        "### 学習"
      ]
    },
    {
      "cell_type": "code",
      "metadata": {
        "id": "5BoZNDWAc7up",
        "colab_type": "code",
        "colab": {
          "base_uri": "https://localhost:8080/",
          "height": 544
        },
        "outputId": "372ae71d-b233-42ab-f11f-25c335ff149b"
      },
      "source": [
        "# 最大学習回数\n",
        "MAX_EPOCH = 5\n",
        "\n",
        "for epoch in range(MAX_EPOCH) :\n",
        "  total_loss = 0.0\n",
        "  for i, data in enumerate(train_data_loader, 0) :\n",
        "    # dataから学習データと教師データを取得\n",
        "    train_data, teacher_labels = data\n",
        "\n",
        "    # 計算された勾配情報を削除\n",
        "    optimizer.zero_grad()\n",
        "\n",
        "    # モデルでの予測を計算\n",
        "    outputs = model(train_data)\n",
        "\n",
        "    loss = criterion(outputs, teacher_labels)\n",
        "    loss.backward()\n",
        "\n",
        "    # 勾配を更新\n",
        "    optimizer.step()\n",
        "\n",
        "    total_loss += loss.item()\n",
        "\n",
        "    if i % 2000 == 1999:\n",
        "      print('学習進捗 : [%d, %5d] loss : %.3f' % (epoch + 1, i + 1, total_loss / 2000))\n",
        "      total_loss = 0.0\n",
        "\n",
        "print('学習完了')"
      ],
      "execution_count": 22,
      "outputs": [
        {
          "output_type": "stream",
          "text": [
            "学習進捗 : [1,  2000] loss : 1.063\n",
            "学習進捗 : [1,  4000] loss : 1.116\n",
            "学習進捗 : [1,  6000] loss : 1.090\n",
            "学習進捗 : [1,  8000] loss : 1.106\n",
            "学習進捗 : [1, 10000] loss : 1.091\n",
            "学習進捗 : [1, 12000] loss : 1.103\n",
            "学習進捗 : [2,  2000] loss : 1.013\n",
            "学習進捗 : [2,  4000] loss : 1.025\n",
            "学習進捗 : [2,  6000] loss : 1.028\n",
            "学習進捗 : [2,  8000] loss : 1.038\n",
            "学習進捗 : [2, 10000] loss : 1.020\n",
            "学習進捗 : [2, 12000] loss : 1.033\n",
            "学習進捗 : [3,  2000] loss : 0.927\n",
            "学習進捗 : [3,  4000] loss : 0.963\n",
            "学習進捗 : [3,  6000] loss : 0.983\n",
            "学習進捗 : [3,  8000] loss : 0.963\n",
            "学習進捗 : [3, 10000] loss : 0.987\n",
            "学習進捗 : [3, 12000] loss : 0.984\n",
            "学習進捗 : [4,  2000] loss : 0.878\n",
            "学習進捗 : [4,  4000] loss : 0.907\n",
            "学習進捗 : [4,  6000] loss : 0.922\n",
            "学習進捗 : [4,  8000] loss : 0.926\n",
            "学習進捗 : [4, 10000] loss : 0.940\n",
            "学習進捗 : [4, 12000] loss : 0.963\n",
            "学習進捗 : [5,  2000] loss : 0.838\n",
            "学習進捗 : [5,  4000] loss : 0.859\n",
            "学習進捗 : [5,  6000] loss : 0.887\n",
            "学習進捗 : [5,  8000] loss : 0.874\n",
            "学習進捗 : [5, 10000] loss : 0.896\n",
            "学習進捗 : [5, 12000] loss : 0.925\n",
            "学習完了\n"
          ],
          "name": "stdout"
        }
      ]
    },
    {
      "cell_type": "markdown",
      "metadata": {
        "id": "XS6EuLxsfY09",
        "colab_type": "text"
      },
      "source": [
        "### 個別データで検証"
      ]
    },
    {
      "cell_type": "code",
      "metadata": {
        "id": "1IUayO-qffNB",
        "colab_type": "code",
        "colab": {
          "base_uri": "https://localhost:8080/",
          "height": 155
        },
        "outputId": "bfa9b1b4-cc5c-40f5-b7e5-e343fcc509d3"
      },
      "source": [
        "data_iterator = iter(test_data_loader)\n",
        "images, labels = data_iterator.next()\n",
        "\n",
        "show_image(torchvision.utils.make_grid(images))\n",
        "print('正解教師ラベル : ', ' '.join('%5s' % class_names[labels[j]] for j in range(4)))"
      ],
      "execution_count": 23,
      "outputs": [
        {
          "output_type": "display_data",
          "data": {
            "image/png": "[encoded data removed]",
            "text/plain": [
              "<Figure size 432x288 with 1 Axes>"
            ]
          },
          "metadata": {
            "tags": []
          }
        },
        {
          "output_type": "stream",
          "text": [
            "正解教師ラベル :    cat  ship  ship plane\n"
          ],
          "name": "stdout"
        }
      ]
    },
    {
      "cell_type": "code",
      "metadata": {
        "id": "kvdPaHJsgP1-",
        "colab_type": "code",
        "colab": {
          "base_uri": "https://localhost:8080/",
          "height": 34
        },
        "outputId": "7c4b855f-5b63-4618-cc6f-fe3158a33add"
      },
      "source": [
        "outputs = model(images)\n",
        "\n",
        "_, predicted = torch.max(outputs, 1)\n",
        "\n",
        "print('予測 : ', ' '.join('%5s' % class_names[predicted[j]] for j in range(4)))"
      ],
      "execution_count": 25,
      "outputs": [
        {
          "output_type": "stream",
          "text": [
            "予測 :    dog   car truck plane\n"
          ],
          "name": "stdout"
        }
      ]
    },
    {
      "cell_type": "markdown",
      "metadata": {
        "id": "aLzkpqyeh3sT",
        "colab_type": "text"
      },
      "source": [
        "## 検証"
      ]
    },
    {
      "cell_type": "code",
      "metadata": {
        "id": "y1RYfHNwh7KH",
        "colab_type": "code",
        "colab": {
          "base_uri": "https://localhost:8080/",
          "height": 34
        },
        "outputId": "12229504-542d-412b-be0a-da892e9c9f62"
      },
      "source": [
        "count_when_correct = 0\n",
        "total = 0\n",
        "with torch.no_grad() :\n",
        "  for data in test_data_loader :\n",
        "    test_data, teacher_labels = data\n",
        "    results = model(test_data)\n",
        "    _, predicted = torch.max(results.data, 1)\n",
        "    total += teacher_labels.size(0)\n",
        "    count_when_correct += (predicted == teacher_labels).sum().item()\n",
        "\n",
        "print('10000 検証画像に対しての正解率 : %d %%' % (100 * count_when_correct / total))"
      ],
      "execution_count": 26,
      "outputs": [
        {
          "output_type": "stream",
          "text": [
            "10000 検証画像に対しての正解率 : 62 %\n"
          ],
          "name": "stdout"
        }
      ]
    },
    {
      "cell_type": "markdown",
      "metadata": {
        "id": "Re3lQu_8jdTC",
        "colab_type": "text"
      },
      "source": [
        "### クラス毎の検証"
      ]
    },
    {
      "cell_type": "code",
      "metadata": {
        "id": "dAZB42mJji8p",
        "colab_type": "code",
        "colab": {
          "base_uri": "https://localhost:8080/",
          "height": 187
        },
        "outputId": "ba268c61-a75b-4c07-d8f7-5ed2bd2312dc"
      },
      "source": [
        "class_correct = list(0. for i in range(10))\n",
        "class_total = list(0. for i in range(10))\n",
        "\n",
        "with torch.no_grad() :\n",
        "  for data in test_data_loader:\n",
        "    test_data, teacher_labels = data\n",
        "    results = model(test_data)\n",
        "    _, predicted = torch.max(results, 1)\n",
        "    c = (predicted == teacher_labels).squeeze()\n",
        "\n",
        "    for i in range(4) :\n",
        "      label = teacher_labels[i]\n",
        "      class_correct[label] += c[i].item()\n",
        "      class_total[label] += 1\n",
        "\n",
        "for i in range(10) :\n",
        "  print(' %5s クラスの正解率は : %2d %%' % (class_names[i], 100 * class_correct[i] / class_total[i]))"
      ],
      "execution_count": 27,
      "outputs": [
        {
          "output_type": "stream",
          "text": [
            " plane クラスの正解率は : 60 %\n",
            "   car クラスの正解率は : 84 %\n",
            "  bird クラスの正解率は : 49 %\n",
            "   cat クラスの正解率は : 29 %\n",
            "  deer クラスの正解率は : 59 %\n",
            "   dog クラスの正解率は : 56 %\n",
            "  frog クラスの正解率は : 71 %\n",
            " horse クラスの正解率は : 73 %\n",
            "  ship クラスの正解率は : 66 %\n",
            " truck クラスの正解率は : 76 %\n"
          ],
          "name": "stdout"
        }
      ]
    }
  ]
}