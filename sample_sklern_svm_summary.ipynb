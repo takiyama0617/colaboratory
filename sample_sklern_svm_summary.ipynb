{
  "nbformat": 4,
  "nbformat_minor": 0,
  "metadata": {
    "colab": {
      "name": "sample_sklern_svm_summary.ipynb",
      "provenance": [],
      "collapsed_sections": [],
      "authorship_tag": "ABX9TyPvxmka3d5tMmEzRsl3X8Wg",
      "include_colab_link": true
    },
    "kernelspec": {
      "name": "python3",
      "display_name": "Python 3"
    }
  },
  "cells": [
    {
      "cell_type": "markdown",
      "metadata": {
        "id": "view-in-github",
        "colab_type": "text"
      },
      "source": [
        "<a href=\"https://colab.research.google.com/github/takiyama0617/colaboratory/blob/master/sample_sklern_svm_summary.ipynb\" target=\"_parent\"><img src=\"https://colab.research.google.com/assets/colab-badge.svg\" alt=\"Open In Colab\"/></a>"
      ]
    },
    {
      "cell_type": "code",
      "metadata": {
        "id": "NKSN3LnKbkYY",
        "colab_type": "code",
        "colab": {
          "base_uri": "https://localhost:8080/",
          "height": 255
        },
        "outputId": "48e1a07a-bb80-4b80-edb0-d20c87782d45"
      },
      "source": [
        "from sklearn.svm import SVC\n",
        "import sklearn.datasets as datasets\n",
        "\n",
        "# 分類用にSVMを用意\n",
        "model = SVC(C=1.0, kernel='linear', decision_function_shape='over')\n",
        "\n",
        "iris = datasets.load_iris()\n",
        "all_features = iris.data\n",
        "teacher_labels = iris.target\n",
        "\n",
        "# 学習\n",
        "model.fit(all_features, teacher_labels)\n",
        "\n",
        "# データを分類器に与え、分類させる\n",
        "result = model.predict(all_features)\n",
        "\n",
        "print('教師ラベル')\n",
        "print(teacher_labels)\n",
        "print('機械学習による分類(predict)')\n",
        "print(result)\n",
        "\n",
        "total = len(all_features)\n",
        "success = sum(result == teacher_labels)\n",
        "\n",
        "print('正解率')\n",
        "print(100.0 * success / total)"
      ],
      "execution_count": 7,
      "outputs": [
        {
          "output_type": "stream",
          "text": [
            "教師ラベル\n",
            "[0 0 0 0 0 0 0 0 0 0 0 0 0 0 0 0 0 0 0 0 0 0 0 0 0 0 0 0 0 0 0 0 0 0 0 0 0\n",
            " 0 0 0 0 0 0 0 0 0 0 0 0 0 1 1 1 1 1 1 1 1 1 1 1 1 1 1 1 1 1 1 1 1 1 1 1 1\n",
            " 1 1 1 1 1 1 1 1 1 1 1 1 1 1 1 1 1 1 1 1 1 1 1 1 1 1 2 2 2 2 2 2 2 2 2 2 2\n",
            " 2 2 2 2 2 2 2 2 2 2 2 2 2 2 2 2 2 2 2 2 2 2 2 2 2 2 2 2 2 2 2 2 2 2 2 2 2\n",
            " 2 2]\n",
            "機械学習による分類(predict)\n",
            "[0 0 0 0 0 0 0 0 0 0 0 0 0 0 0 0 0 0 0 0 0 0 0 0 0 0 0 0 0 0 0 0 0 0 0 0 0\n",
            " 0 0 0 0 0 0 0 0 0 0 0 0 0 1 1 1 1 1 1 1 1 1 1 1 1 1 1 1 1 1 1 1 1 1 1 1 1\n",
            " 1 1 1 1 1 1 1 1 1 2 1 1 1 1 1 1 1 1 1 1 1 1 1 1 1 1 2 2 2 2 2 2 2 2 2 2 2\n",
            " 2 2 2 2 2 2 2 2 2 2 2 2 2 2 2 2 2 2 2 2 2 2 2 2 2 2 2 2 2 2 2 2 2 2 2 2 2\n",
            " 2 2]\n",
            "正解率\n",
            "99.33333333333333\n"
          ],
          "name": "stdout"
        }
      ]
    },
    {
      "cell_type": "code",
      "metadata": {
        "id": "NucGHlbneGsk",
        "colab_type": "code",
        "colab": {
          "base_uri": "https://localhost:8080/",
          "height": 51
        },
        "outputId": "d411cb86-b22c-412f-84e7-ad1d8b2f0101"
      },
      "source": [
        "test_data = all_features[:1, :]\n",
        "print(test_data)\n",
        "test_result = model.predict(test_data)\n",
        "print(test_result)"
      ],
      "execution_count": 8,
      "outputs": [
        {
          "output_type": "stream",
          "text": [
            "[[5.1 3.5 1.4 0.2]]\n",
            "[0]\n"
          ],
          "name": "stdout"
        }
      ]
    },
    {
      "cell_type": "code",
      "metadata": {
        "id": "RJF1uuCteZVJ",
        "colab_type": "code",
        "colab": {
          "base_uri": "https://localhost:8080/",
          "height": 51
        },
        "outputId": "f2b6584b-8af8-45ac-b51b-a9a70287497c"
      },
      "source": [
        "import numpy as np\n",
        "\n",
        "test_data = np.array([[2, 3, 4.1, 5.2]])\n",
        "print(test_data)\n",
        "test_result = model.predict(test_data)\n",
        "print(test_result)"
      ],
      "execution_count": 10,
      "outputs": [
        {
          "output_type": "stream",
          "text": [
            "[[2.  3.  4.1 5.2]]\n",
            "[2]\n"
          ],
          "name": "stdout"
        }
      ]
    }
  ]
}